{
 "cells": [
  {
   "cell_type": "markdown",
   "id": "104f845b",
   "metadata": {
    "papermill": {
     "duration": 0.01143,
     "end_time": "2023-09-16T09:19:42.711115",
     "exception": false,
     "start_time": "2023-09-16T09:19:42.699685",
     "status": "completed"
    },
    "tags": []
   },
   "source": [
    "# Online Payments Fraud Detection\n",
    "\n",
    "This notebook includes **Logistic Regression, Decision Tree, Random Forest, Gradient Boosting** classification models and accuracy scores.\n",
    "\n"
   ]
  },
  {
   "cell_type": "code",
   "execution_count": 1,
   "id": "698422fe",
   "metadata": {
    "execution": {
     "iopub.execute_input": "2023-09-16T09:19:42.735838Z",
     "iopub.status.busy": "2023-09-16T09:19:42.735007Z",
     "iopub.status.idle": "2023-09-16T09:19:43.181100Z",
     "shell.execute_reply": "2023-09-16T09:19:43.179949Z"
    },
    "papermill": {
     "duration": 0.461631,
     "end_time": "2023-09-16T09:19:43.183876",
     "exception": false,
     "start_time": "2023-09-16T09:19:42.722245",
     "status": "completed"
    },
    "tags": []
   },
   "outputs": [],
   "source": [
    "import numpy as np \n",
    "import pandas as pd \n",
    "import os\n",
    "import matplotlib.pyplot as plt\n",
    "import seaborn as sns"
   ]
  },
  {
   "cell_type": "markdown",
   "id": "5bc9a081",
   "metadata": {
    "papermill": {
     "duration": 0.01115,
     "end_time": "2023-09-16T09:19:43.206577",
     "exception": false,
     "start_time": "2023-09-16T09:19:43.195427",
     "status": "completed"
    },
    "tags": []
   },
   "source": [
    "# Understanding Data & Preprocessing"
   ]
  },
  {
   "cell_type": "code",
   "execution_count": 2,
   "id": "9f5f05f1",
   "metadata": {
    "execution": {
     "iopub.execute_input": "2023-09-16T09:19:43.231399Z",
     "iopub.status.busy": "2023-09-16T09:19:43.230576Z",
     "iopub.status.idle": "2023-09-16T09:19:45.024120Z",
     "shell.execute_reply": "2023-09-16T09:19:45.022632Z"
    },
    "papermill": {
     "duration": 1.809612,
     "end_time": "2023-09-16T09:19:45.027384",
     "exception": false,
     "start_time": "2023-09-16T09:19:43.217772",
     "status": "completed"
    },
    "tags": []
   },
   "outputs": [],
   "source": [
    "import pandas as pd\n",
    "import numpy as np\n",
    "import matplotlib.pyplot as plt\n",
    "import seaborn as sns\n",
    "import random"
   ]
  },
  {
   "cell_type": "code",
   "execution_count": 3,
   "id": "055377b0",
   "metadata": {
    "execution": {
     "iopub.execute_input": "2023-09-16T09:19:45.052631Z",
     "iopub.status.busy": "2023-09-16T09:19:45.052140Z",
     "iopub.status.idle": "2023-09-16T09:20:07.459682Z",
     "shell.execute_reply": "2023-09-16T09:20:07.458575Z"
    },
    "papermill": {
     "duration": 22.423372,
     "end_time": "2023-09-16T09:20:07.462265",
     "exception": false,
     "start_time": "2023-09-16T09:19:45.038893",
     "status": "completed"
    },
    "tags": []
   },
   "outputs": [
    {
     "data": {
      "text/html": [
       "<div>\n",
       "<style scoped>\n",
       "    .dataframe tbody tr th:only-of-type {\n",
       "        vertical-align: middle;\n",
       "    }\n",
       "\n",
       "    .dataframe tbody tr th {\n",
       "        vertical-align: top;\n",
       "    }\n",
       "\n",
       "    .dataframe thead th {\n",
       "        text-align: right;\n",
       "    }\n",
       "</style>\n",
       "<table border=\"1\" class=\"dataframe\">\n",
       "  <thead>\n",
       "    <tr style=\"text-align: right;\">\n",
       "      <th></th>\n",
       "      <th>step</th>\n",
       "      <th>type</th>\n",
       "      <th>amount</th>\n",
       "      <th>nameOrig</th>\n",
       "      <th>oldbalanceOrg</th>\n",
       "      <th>newbalanceOrig</th>\n",
       "      <th>nameDest</th>\n",
       "      <th>oldbalanceDest</th>\n",
       "      <th>newbalanceDest</th>\n",
       "      <th>isFraud</th>\n",
       "      <th>isFlaggedFraud</th>\n",
       "    </tr>\n",
       "  </thead>\n",
       "  <tbody>\n",
       "    <tr>\n",
       "      <th>0</th>\n",
       "      <td>1</td>\n",
       "      <td>PAYMENT</td>\n",
       "      <td>9839.64</td>\n",
       "      <td>C1231006815</td>\n",
       "      <td>170136.0</td>\n",
       "      <td>160296.36</td>\n",
       "      <td>M1979787155</td>\n",
       "      <td>0.0</td>\n",
       "      <td>0.0</td>\n",
       "      <td>0</td>\n",
       "      <td>0</td>\n",
       "    </tr>\n",
       "    <tr>\n",
       "      <th>1</th>\n",
       "      <td>1</td>\n",
       "      <td>PAYMENT</td>\n",
       "      <td>1864.28</td>\n",
       "      <td>C1666544295</td>\n",
       "      <td>21249.0</td>\n",
       "      <td>19384.72</td>\n",
       "      <td>M2044282225</td>\n",
       "      <td>0.0</td>\n",
       "      <td>0.0</td>\n",
       "      <td>0</td>\n",
       "      <td>0</td>\n",
       "    </tr>\n",
       "    <tr>\n",
       "      <th>2</th>\n",
       "      <td>1</td>\n",
       "      <td>TRANSFER</td>\n",
       "      <td>181.00</td>\n",
       "      <td>C1305486145</td>\n",
       "      <td>181.0</td>\n",
       "      <td>0.00</td>\n",
       "      <td>C553264065</td>\n",
       "      <td>0.0</td>\n",
       "      <td>0.0</td>\n",
       "      <td>1</td>\n",
       "      <td>0</td>\n",
       "    </tr>\n",
       "    <tr>\n",
       "      <th>3</th>\n",
       "      <td>1</td>\n",
       "      <td>CASH_OUT</td>\n",
       "      <td>181.00</td>\n",
       "      <td>C840083671</td>\n",
       "      <td>181.0</td>\n",
       "      <td>0.00</td>\n",
       "      <td>C38997010</td>\n",
       "      <td>21182.0</td>\n",
       "      <td>0.0</td>\n",
       "      <td>1</td>\n",
       "      <td>0</td>\n",
       "    </tr>\n",
       "    <tr>\n",
       "      <th>4</th>\n",
       "      <td>1</td>\n",
       "      <td>PAYMENT</td>\n",
       "      <td>11668.14</td>\n",
       "      <td>C2048537720</td>\n",
       "      <td>41554.0</td>\n",
       "      <td>29885.86</td>\n",
       "      <td>M1230701703</td>\n",
       "      <td>0.0</td>\n",
       "      <td>0.0</td>\n",
       "      <td>0</td>\n",
       "      <td>0</td>\n",
       "    </tr>\n",
       "  </tbody>\n",
       "</table>\n",
       "</div>"
      ],
      "text/plain": [
       "   step      type    amount     nameOrig  oldbalanceOrg  newbalanceOrig  \\\n",
       "0     1   PAYMENT   9839.64  C1231006815       170136.0       160296.36   \n",
       "1     1   PAYMENT   1864.28  C1666544295        21249.0        19384.72   \n",
       "2     1  TRANSFER    181.00  C1305486145          181.0            0.00   \n",
       "3     1  CASH_OUT    181.00   C840083671          181.0            0.00   \n",
       "4     1   PAYMENT  11668.14  C2048537720        41554.0        29885.86   \n",
       "\n",
       "      nameDest  oldbalanceDest  newbalanceDest  isFraud  isFlaggedFraud  \n",
       "0  M1979787155             0.0             0.0        0               0  \n",
       "1  M2044282225             0.0             0.0        0               0  \n",
       "2   C553264065             0.0             0.0        1               0  \n",
       "3    C38997010         21182.0             0.0        1               0  \n",
       "4  M1230701703             0.0             0.0        0               0  "
      ]
     },
     "execution_count": 3,
     "metadata": {},
     "output_type": "execute_result"
    }
   ],
   "source": [
    "data = pd.read_csv(\"C:/Users/Dell/Downloads/naren.csv\")\n",
    "data.head()"
   ]
  },
  {
   "cell_type": "markdown",
   "id": "bb5bb123",
   "metadata": {
    "papermill": {
     "duration": 0.01106,
     "end_time": "2023-09-16T09:20:07.484944",
     "exception": false,
     "start_time": "2023-09-16T09:20:07.473884",
     "status": "completed"
    },
    "tags": []
   },
   "source": [
    "## Feature Explanation:\n",
    "\n",
    "- step: represents a unit of time where 1 step equals 1 hour\n",
    "- type: type of online transaction\n",
    "- amount: the amount of the transaction\n",
    "- nameOrig: customer starting the transaction\n",
    "- oldbalanceOrg: balance before the transaction\n",
    "- newbalanceOrig: balance after the transaction\n",
    "- nameDest: recipient of the transaction\n",
    "- oldbalanceDest: initial balance of recipient before the transaction\n",
    "- newbalanceDest: the new balance of recipient after the transaction\n",
    "- isFraud: fraud transaction"
   ]
  },
  {
   "cell_type": "code",
   "execution_count": 4,
   "id": "6d1ae7fd",
   "metadata": {
    "execution": {
     "iopub.execute_input": "2023-09-16T09:20:07.510442Z",
     "iopub.status.busy": "2023-09-16T09:20:07.509114Z",
     "iopub.status.idle": "2023-09-16T09:20:07.540954Z",
     "shell.execute_reply": "2023-09-16T09:20:07.539612Z"
    },
    "papermill": {
     "duration": 0.047238,
     "end_time": "2023-09-16T09:20:07.543645",
     "exception": false,
     "start_time": "2023-09-16T09:20:07.496407",
     "status": "completed"
    },
    "tags": []
   },
   "outputs": [
    {
     "name": "stdout",
     "output_type": "stream",
     "text": [
      "<class 'pandas.core.frame.DataFrame'>\n",
      "RangeIndex: 6362620 entries, 0 to 6362619\n",
      "Data columns (total 11 columns):\n",
      " #   Column          Dtype  \n",
      "---  ------          -----  \n",
      " 0   step            int64  \n",
      " 1   type            object \n",
      " 2   amount          float64\n",
      " 3   nameOrig        object \n",
      " 4   oldbalanceOrg   float64\n",
      " 5   newbalanceOrig  float64\n",
      " 6   nameDest        object \n",
      " 7   oldbalanceDest  float64\n",
      " 8   newbalanceDest  float64\n",
      " 9   isFraud         int64  \n",
      " 10  isFlaggedFraud  int64  \n",
      "dtypes: float64(5), int64(3), object(3)\n",
      "memory usage: 534.0+ MB\n"
     ]
    }
   ],
   "source": [
    "data.info()"
   ]
  },
  {
   "cell_type": "code",
   "execution_count": 5,
   "id": "7516b320",
   "metadata": {
    "execution": {
     "iopub.execute_input": "2023-09-16T09:20:07.569240Z",
     "iopub.status.busy": "2023-09-16T09:20:07.568066Z",
     "iopub.status.idle": "2023-09-16T09:20:09.600209Z",
     "shell.execute_reply": "2023-09-16T09:20:09.599097Z"
    },
    "papermill": {
     "duration": 2.047389,
     "end_time": "2023-09-16T09:20:09.602668",
     "exception": false,
     "start_time": "2023-09-16T09:20:07.555279",
     "status": "completed"
    },
    "tags": []
   },
   "outputs": [
    {
     "data": {
      "text/html": [
       "<div>\n",
       "<style scoped>\n",
       "    .dataframe tbody tr th:only-of-type {\n",
       "        vertical-align: middle;\n",
       "    }\n",
       "\n",
       "    .dataframe tbody tr th {\n",
       "        vertical-align: top;\n",
       "    }\n",
       "\n",
       "    .dataframe thead th {\n",
       "        text-align: right;\n",
       "    }\n",
       "</style>\n",
       "<table border=\"1\" class=\"dataframe\">\n",
       "  <thead>\n",
       "    <tr style=\"text-align: right;\">\n",
       "      <th></th>\n",
       "      <th>step</th>\n",
       "      <th>amount</th>\n",
       "      <th>oldbalanceOrg</th>\n",
       "      <th>newbalanceOrig</th>\n",
       "      <th>oldbalanceDest</th>\n",
       "      <th>newbalanceDest</th>\n",
       "      <th>isFraud</th>\n",
       "      <th>isFlaggedFraud</th>\n",
       "    </tr>\n",
       "  </thead>\n",
       "  <tbody>\n",
       "    <tr>\n",
       "      <th>count</th>\n",
       "      <td>6.362620e+06</td>\n",
       "      <td>6.362620e+06</td>\n",
       "      <td>6.362620e+06</td>\n",
       "      <td>6.362620e+06</td>\n",
       "      <td>6.362620e+06</td>\n",
       "      <td>6.362620e+06</td>\n",
       "      <td>6.362620e+06</td>\n",
       "      <td>6.362620e+06</td>\n",
       "    </tr>\n",
       "    <tr>\n",
       "      <th>mean</th>\n",
       "      <td>2.433972e+02</td>\n",
       "      <td>1.798619e+05</td>\n",
       "      <td>8.338831e+05</td>\n",
       "      <td>8.551137e+05</td>\n",
       "      <td>1.100702e+06</td>\n",
       "      <td>1.224996e+06</td>\n",
       "      <td>1.290820e-03</td>\n",
       "      <td>2.514687e-06</td>\n",
       "    </tr>\n",
       "    <tr>\n",
       "      <th>std</th>\n",
       "      <td>1.423320e+02</td>\n",
       "      <td>6.038582e+05</td>\n",
       "      <td>2.888243e+06</td>\n",
       "      <td>2.924049e+06</td>\n",
       "      <td>3.399180e+06</td>\n",
       "      <td>3.674129e+06</td>\n",
       "      <td>3.590480e-02</td>\n",
       "      <td>1.585775e-03</td>\n",
       "    </tr>\n",
       "    <tr>\n",
       "      <th>min</th>\n",
       "      <td>1.000000e+00</td>\n",
       "      <td>0.000000e+00</td>\n",
       "      <td>0.000000e+00</td>\n",
       "      <td>0.000000e+00</td>\n",
       "      <td>0.000000e+00</td>\n",
       "      <td>0.000000e+00</td>\n",
       "      <td>0.000000e+00</td>\n",
       "      <td>0.000000e+00</td>\n",
       "    </tr>\n",
       "    <tr>\n",
       "      <th>25%</th>\n",
       "      <td>1.560000e+02</td>\n",
       "      <td>1.338957e+04</td>\n",
       "      <td>0.000000e+00</td>\n",
       "      <td>0.000000e+00</td>\n",
       "      <td>0.000000e+00</td>\n",
       "      <td>0.000000e+00</td>\n",
       "      <td>0.000000e+00</td>\n",
       "      <td>0.000000e+00</td>\n",
       "    </tr>\n",
       "    <tr>\n",
       "      <th>50%</th>\n",
       "      <td>2.390000e+02</td>\n",
       "      <td>7.487194e+04</td>\n",
       "      <td>1.420800e+04</td>\n",
       "      <td>0.000000e+00</td>\n",
       "      <td>1.327057e+05</td>\n",
       "      <td>2.146614e+05</td>\n",
       "      <td>0.000000e+00</td>\n",
       "      <td>0.000000e+00</td>\n",
       "    </tr>\n",
       "    <tr>\n",
       "      <th>75%</th>\n",
       "      <td>3.350000e+02</td>\n",
       "      <td>2.087215e+05</td>\n",
       "      <td>1.073152e+05</td>\n",
       "      <td>1.442584e+05</td>\n",
       "      <td>9.430367e+05</td>\n",
       "      <td>1.111909e+06</td>\n",
       "      <td>0.000000e+00</td>\n",
       "      <td>0.000000e+00</td>\n",
       "    </tr>\n",
       "    <tr>\n",
       "      <th>max</th>\n",
       "      <td>7.430000e+02</td>\n",
       "      <td>9.244552e+07</td>\n",
       "      <td>5.958504e+07</td>\n",
       "      <td>4.958504e+07</td>\n",
       "      <td>3.560159e+08</td>\n",
       "      <td>3.561793e+08</td>\n",
       "      <td>1.000000e+00</td>\n",
       "      <td>1.000000e+00</td>\n",
       "    </tr>\n",
       "  </tbody>\n",
       "</table>\n",
       "</div>"
      ],
      "text/plain": [
       "               step        amount  oldbalanceOrg  newbalanceOrig  \\\n",
       "count  6.362620e+06  6.362620e+06   6.362620e+06    6.362620e+06   \n",
       "mean   2.433972e+02  1.798619e+05   8.338831e+05    8.551137e+05   \n",
       "std    1.423320e+02  6.038582e+05   2.888243e+06    2.924049e+06   \n",
       "min    1.000000e+00  0.000000e+00   0.000000e+00    0.000000e+00   \n",
       "25%    1.560000e+02  1.338957e+04   0.000000e+00    0.000000e+00   \n",
       "50%    2.390000e+02  7.487194e+04   1.420800e+04    0.000000e+00   \n",
       "75%    3.350000e+02  2.087215e+05   1.073152e+05    1.442584e+05   \n",
       "max    7.430000e+02  9.244552e+07   5.958504e+07    4.958504e+07   \n",
       "\n",
       "       oldbalanceDest  newbalanceDest       isFraud  isFlaggedFraud  \n",
       "count    6.362620e+06    6.362620e+06  6.362620e+06    6.362620e+06  \n",
       "mean     1.100702e+06    1.224996e+06  1.290820e-03    2.514687e-06  \n",
       "std      3.399180e+06    3.674129e+06  3.590480e-02    1.585775e-03  \n",
       "min      0.000000e+00    0.000000e+00  0.000000e+00    0.000000e+00  \n",
       "25%      0.000000e+00    0.000000e+00  0.000000e+00    0.000000e+00  \n",
       "50%      1.327057e+05    2.146614e+05  0.000000e+00    0.000000e+00  \n",
       "75%      9.430367e+05    1.111909e+06  0.000000e+00    0.000000e+00  \n",
       "max      3.560159e+08    3.561793e+08  1.000000e+00    1.000000e+00  "
      ]
     },
     "execution_count": 5,
     "metadata": {},
     "output_type": "execute_result"
    }
   ],
   "source": [
    "data.describe()"
   ]
  },
  {
   "cell_type": "code",
   "execution_count": 6,
   "id": "d9476149",
   "metadata": {
    "execution": {
     "iopub.execute_input": "2023-09-16T09:20:09.628740Z",
     "iopub.status.busy": "2023-09-16T09:20:09.628336Z",
     "iopub.status.idle": "2023-09-16T09:20:11.719984Z",
     "shell.execute_reply": "2023-09-16T09:20:11.718841Z"
    },
    "papermill": {
     "duration": 2.107751,
     "end_time": "2023-09-16T09:20:11.722658",
     "exception": false,
     "start_time": "2023-09-16T09:20:09.614907",
     "status": "completed"
    },
    "tags": []
   },
   "outputs": [
    {
     "data": {
      "text/plain": [
       "step              0\n",
       "type              0\n",
       "amount            0\n",
       "nameOrig          0\n",
       "oldbalanceOrg     0\n",
       "newbalanceOrig    0\n",
       "nameDest          0\n",
       "oldbalanceDest    0\n",
       "newbalanceDest    0\n",
       "isFraud           0\n",
       "isFlaggedFraud    0\n",
       "dtype: int64"
      ]
     },
     "execution_count": 6,
     "metadata": {},
     "output_type": "execute_result"
    }
   ],
   "source": [
    "data.isnull().sum()"
   ]
  },
  {
   "cell_type": "markdown",
   "id": "b3d95f86",
   "metadata": {
    "papermill": {
     "duration": 0.012311,
     "end_time": "2023-09-16T09:20:11.747743",
     "exception": false,
     "start_time": "2023-09-16T09:20:11.735432",
     "status": "completed"
    },
    "tags": []
   },
   "source": [
    "There is no null columns in dataset."
   ]
  },
  {
   "cell_type": "code",
   "execution_count": 7,
   "id": "3e849546",
   "metadata": {
    "execution": {
     "iopub.execute_input": "2023-09-16T09:20:11.776015Z",
     "iopub.status.busy": "2023-09-16T09:20:11.774941Z",
     "iopub.status.idle": "2023-09-16T09:20:31.363312Z",
     "shell.execute_reply": "2023-09-16T09:20:31.361887Z"
    },
    "papermill": {
     "duration": 19.605588,
     "end_time": "2023-09-16T09:20:31.366200",
     "exception": false,
     "start_time": "2023-09-16T09:20:11.760612",
     "status": "completed"
    },
    "tags": []
   },
   "outputs": [
    {
     "data": {
      "text/html": [
       "<div>\n",
       "<style scoped>\n",
       "    .dataframe tbody tr th:only-of-type {\n",
       "        vertical-align: middle;\n",
       "    }\n",
       "\n",
       "    .dataframe tbody tr th {\n",
       "        vertical-align: top;\n",
       "    }\n",
       "\n",
       "    .dataframe thead th {\n",
       "        text-align: right;\n",
       "    }\n",
       "</style>\n",
       "<table border=\"1\" class=\"dataframe\">\n",
       "  <thead>\n",
       "    <tr style=\"text-align: right;\">\n",
       "      <th></th>\n",
       "      <th>step</th>\n",
       "      <th>type</th>\n",
       "      <th>amount</th>\n",
       "      <th>nameOrig</th>\n",
       "      <th>oldbalanceOrg</th>\n",
       "      <th>newbalanceOrig</th>\n",
       "      <th>nameDest</th>\n",
       "      <th>oldbalanceDest</th>\n",
       "      <th>newbalanceDest</th>\n",
       "      <th>isFraud</th>\n",
       "      <th>isFlaggedFraud</th>\n",
       "    </tr>\n",
       "  </thead>\n",
       "  <tbody>\n",
       "    <tr>\n",
       "      <th>0</th>\n",
       "      <td>1</td>\n",
       "      <td>PAYMENT</td>\n",
       "      <td>9839.64</td>\n",
       "      <td>C1231006815</td>\n",
       "      <td>170136.00</td>\n",
       "      <td>160296.36</td>\n",
       "      <td>M1979787155</td>\n",
       "      <td>0.00</td>\n",
       "      <td>0.00</td>\n",
       "      <td>0</td>\n",
       "      <td>0</td>\n",
       "    </tr>\n",
       "    <tr>\n",
       "      <th>1</th>\n",
       "      <td>1</td>\n",
       "      <td>PAYMENT</td>\n",
       "      <td>1864.28</td>\n",
       "      <td>C1666544295</td>\n",
       "      <td>21249.00</td>\n",
       "      <td>19384.72</td>\n",
       "      <td>M2044282225</td>\n",
       "      <td>0.00</td>\n",
       "      <td>0.00</td>\n",
       "      <td>0</td>\n",
       "      <td>0</td>\n",
       "    </tr>\n",
       "    <tr>\n",
       "      <th>2</th>\n",
       "      <td>1</td>\n",
       "      <td>TRANSFER</td>\n",
       "      <td>181.00</td>\n",
       "      <td>C1305486145</td>\n",
       "      <td>181.00</td>\n",
       "      <td>0.00</td>\n",
       "      <td>C553264065</td>\n",
       "      <td>0.00</td>\n",
       "      <td>0.00</td>\n",
       "      <td>1</td>\n",
       "      <td>0</td>\n",
       "    </tr>\n",
       "    <tr>\n",
       "      <th>3</th>\n",
       "      <td>1</td>\n",
       "      <td>CASH_OUT</td>\n",
       "      <td>181.00</td>\n",
       "      <td>C840083671</td>\n",
       "      <td>181.00</td>\n",
       "      <td>0.00</td>\n",
       "      <td>C38997010</td>\n",
       "      <td>21182.00</td>\n",
       "      <td>0.00</td>\n",
       "      <td>1</td>\n",
       "      <td>0</td>\n",
       "    </tr>\n",
       "    <tr>\n",
       "      <th>4</th>\n",
       "      <td>1</td>\n",
       "      <td>PAYMENT</td>\n",
       "      <td>11668.14</td>\n",
       "      <td>C2048537720</td>\n",
       "      <td>41554.00</td>\n",
       "      <td>29885.86</td>\n",
       "      <td>M1230701703</td>\n",
       "      <td>0.00</td>\n",
       "      <td>0.00</td>\n",
       "      <td>0</td>\n",
       "      <td>0</td>\n",
       "    </tr>\n",
       "    <tr>\n",
       "      <th>...</th>\n",
       "      <td>...</td>\n",
       "      <td>...</td>\n",
       "      <td>...</td>\n",
       "      <td>...</td>\n",
       "      <td>...</td>\n",
       "      <td>...</td>\n",
       "      <td>...</td>\n",
       "      <td>...</td>\n",
       "      <td>...</td>\n",
       "      <td>...</td>\n",
       "      <td>...</td>\n",
       "    </tr>\n",
       "    <tr>\n",
       "      <th>6362615</th>\n",
       "      <td>743</td>\n",
       "      <td>CASH_OUT</td>\n",
       "      <td>339682.13</td>\n",
       "      <td>C786484425</td>\n",
       "      <td>339682.13</td>\n",
       "      <td>0.00</td>\n",
       "      <td>C776919290</td>\n",
       "      <td>0.00</td>\n",
       "      <td>339682.13</td>\n",
       "      <td>1</td>\n",
       "      <td>0</td>\n",
       "    </tr>\n",
       "    <tr>\n",
       "      <th>6362616</th>\n",
       "      <td>743</td>\n",
       "      <td>TRANSFER</td>\n",
       "      <td>6311409.28</td>\n",
       "      <td>C1529008245</td>\n",
       "      <td>6311409.28</td>\n",
       "      <td>0.00</td>\n",
       "      <td>C1881841831</td>\n",
       "      <td>0.00</td>\n",
       "      <td>0.00</td>\n",
       "      <td>1</td>\n",
       "      <td>0</td>\n",
       "    </tr>\n",
       "    <tr>\n",
       "      <th>6362617</th>\n",
       "      <td>743</td>\n",
       "      <td>CASH_OUT</td>\n",
       "      <td>6311409.28</td>\n",
       "      <td>C1162922333</td>\n",
       "      <td>6311409.28</td>\n",
       "      <td>0.00</td>\n",
       "      <td>C1365125890</td>\n",
       "      <td>68488.84</td>\n",
       "      <td>6379898.11</td>\n",
       "      <td>1</td>\n",
       "      <td>0</td>\n",
       "    </tr>\n",
       "    <tr>\n",
       "      <th>6362618</th>\n",
       "      <td>743</td>\n",
       "      <td>TRANSFER</td>\n",
       "      <td>850002.52</td>\n",
       "      <td>C1685995037</td>\n",
       "      <td>850002.52</td>\n",
       "      <td>0.00</td>\n",
       "      <td>C2080388513</td>\n",
       "      <td>0.00</td>\n",
       "      <td>0.00</td>\n",
       "      <td>1</td>\n",
       "      <td>0</td>\n",
       "    </tr>\n",
       "    <tr>\n",
       "      <th>6362619</th>\n",
       "      <td>743</td>\n",
       "      <td>CASH_OUT</td>\n",
       "      <td>850002.52</td>\n",
       "      <td>C1280323807</td>\n",
       "      <td>850002.52</td>\n",
       "      <td>0.00</td>\n",
       "      <td>C873221189</td>\n",
       "      <td>6510099.11</td>\n",
       "      <td>7360101.63</td>\n",
       "      <td>1</td>\n",
       "      <td>0</td>\n",
       "    </tr>\n",
       "  </tbody>\n",
       "</table>\n",
       "<p>6362620 rows × 11 columns</p>\n",
       "</div>"
      ],
      "text/plain": [
       "         step      type      amount     nameOrig  oldbalanceOrg  \\\n",
       "0           1   PAYMENT     9839.64  C1231006815      170136.00   \n",
       "1           1   PAYMENT     1864.28  C1666544295       21249.00   \n",
       "2           1  TRANSFER      181.00  C1305486145         181.00   \n",
       "3           1  CASH_OUT      181.00   C840083671         181.00   \n",
       "4           1   PAYMENT    11668.14  C2048537720       41554.00   \n",
       "...       ...       ...         ...          ...            ...   \n",
       "6362615   743  CASH_OUT   339682.13   C786484425      339682.13   \n",
       "6362616   743  TRANSFER  6311409.28  C1529008245     6311409.28   \n",
       "6362617   743  CASH_OUT  6311409.28  C1162922333     6311409.28   \n",
       "6362618   743  TRANSFER   850002.52  C1685995037      850002.52   \n",
       "6362619   743  CASH_OUT   850002.52  C1280323807      850002.52   \n",
       "\n",
       "         newbalanceOrig     nameDest  oldbalanceDest  newbalanceDest  isFraud  \\\n",
       "0             160296.36  M1979787155            0.00            0.00        0   \n",
       "1              19384.72  M2044282225            0.00            0.00        0   \n",
       "2                  0.00   C553264065            0.00            0.00        1   \n",
       "3                  0.00    C38997010        21182.00            0.00        1   \n",
       "4              29885.86  M1230701703            0.00            0.00        0   \n",
       "...                 ...          ...             ...             ...      ...   \n",
       "6362615            0.00   C776919290            0.00       339682.13        1   \n",
       "6362616            0.00  C1881841831            0.00            0.00        1   \n",
       "6362617            0.00  C1365125890        68488.84      6379898.11        1   \n",
       "6362618            0.00  C2080388513            0.00            0.00        1   \n",
       "6362619            0.00   C873221189      6510099.11      7360101.63        1   \n",
       "\n",
       "         isFlaggedFraud  \n",
       "0                     0  \n",
       "1                     0  \n",
       "2                     0  \n",
       "3                     0  \n",
       "4                     0  \n",
       "...                 ...  \n",
       "6362615               0  \n",
       "6362616               0  \n",
       "6362617               0  \n",
       "6362618               0  \n",
       "6362619               0  \n",
       "\n",
       "[6362620 rows x 11 columns]"
      ]
     },
     "execution_count": 7,
     "metadata": {},
     "output_type": "execute_result"
    }
   ],
   "source": [
    "data.drop_duplicates()"
   ]
  },
  {
   "cell_type": "code",
   "execution_count": 8,
   "id": "a2eabffa",
   "metadata": {
    "execution": {
     "iopub.execute_input": "2023-09-16T09:20:31.395846Z",
     "iopub.status.busy": "2023-09-16T09:20:31.395407Z",
     "iopub.status.idle": "2023-09-16T09:20:32.845615Z",
     "shell.execute_reply": "2023-09-16T09:20:32.841671Z"
    },
    "papermill": {
     "duration": 1.467562,
     "end_time": "2023-09-16T09:20:32.848711",
     "exception": false,
     "start_time": "2023-09-16T09:20:31.381149",
     "status": "completed"
    },
    "tags": []
   },
   "outputs": [
    {
     "data": {
      "image/png": "[encoded data removed]",
      "text/plain": [
       "<Figure size 1000x700 with 1 Axes>"
      ]
     },
     "metadata": {},
     "output_type": "display_data"
    }
   ],
   "source": [
    "fig = plt.figure(figsize =(10, 7))\n",
    "data['type'].value_counts(normalize=True).plot(kind='bar')\n",
    "plt.show()"
   ]
  },
  {
   "cell_type": "code",
   "execution_count": 9,
   "id": "8850fc85",
   "metadata": {
    "execution": {
     "iopub.execute_input": "2023-09-16T09:20:32.877294Z",
     "iopub.status.busy": "2023-09-16T09:20:32.876863Z",
     "iopub.status.idle": "2023-09-16T09:20:33.014272Z",
     "shell.execute_reply": "2023-09-16T09:20:33.013047Z"
    },
    "papermill": {
     "duration": 0.154688,
     "end_time": "2023-09-16T09:20:33.016776",
     "exception": false,
     "start_time": "2023-09-16T09:20:32.862088",
     "status": "completed"
    },
    "tags": []
   },
   "outputs": [
    {
     "name": "stdout",
     "output_type": "stream",
     "text": [
      "No Frauds Percentage: 99.87091795518198\n",
      "Frauds Percentage: 0.12908204481801522\n"
     ]
    }
   ],
   "source": [
    "print(\"No Frauds Percentage:\",data['isFraud'].value_counts()[0]/len(data['isFraud'])*100)\n",
    "print(\"Frauds Percentage:\",data['isFraud'].value_counts()[1]/len(data['isFraud'])*100)"
   ]
  },
  {
   "cell_type": "markdown",
   "id": "742d65af",
   "metadata": {
    "papermill": {
     "duration": 0.013209,
     "end_time": "2023-09-16T09:20:33.043161",
     "exception": false,
     "start_time": "2023-09-16T09:20:33.029952",
     "status": "completed"
    },
    "tags": []
   },
   "source": [
    "Imbalance dataset."
   ]
  },
  {
   "cell_type": "code",
   "execution_count": 10,
   "id": "4b6ce143",
   "metadata": {
    "execution": {
     "iopub.execute_input": "2023-09-16T09:20:33.073119Z",
     "iopub.status.busy": "2023-09-16T09:20:33.072206Z",
     "iopub.status.idle": "2023-09-16T09:20:33.271158Z",
     "shell.execute_reply": "2023-09-16T09:20:33.270005Z"
    },
    "papermill": {
     "duration": 0.217537,
     "end_time": "2023-09-16T09:20:33.274019",
     "exception": false,
     "start_time": "2023-09-16T09:20:33.056482",
     "status": "completed"
    },
    "tags": []
   },
   "outputs": [],
   "source": [
    "data.drop(['isFlaggedFraud','nameOrig','nameDest'], axis = 1, inplace = True)\n"
   ]
  },
  {
   "cell_type": "code",
   "execution_count": 11,
   "id": "5305a856",
   "metadata": {
    "execution": {
     "iopub.execute_input": "2023-09-16T09:20:33.303414Z",
     "iopub.status.busy": "2023-09-16T09:20:33.302628Z",
     "iopub.status.idle": "2023-09-16T09:20:35.419315Z",
     "shell.execute_reply": "2023-09-16T09:20:35.418129Z"
    },
    "papermill": {
     "duration": 2.134414,
     "end_time": "2023-09-16T09:20:35.422240",
     "exception": false,
     "start_time": "2023-09-16T09:20:33.287826",
     "status": "completed"
    },
    "tags": []
   },
   "outputs": [
    {
     "data": {
      "image/png": "[encoded data removed]",
      "text/plain": [
       "<Figure size 1000x700 with 2 Axes>"
      ]
     },
     "metadata": {},
     "output_type": "display_data"
    }
   ],
   "source": [
    "correlationdata = data.copy()\n",
    "correlationdata.drop(['type'], axis = 1, inplace = True)\n",
    "\n",
    "fig = plt.figure(figsize =(10, 7))\n",
    "sns.heatmap(correlationdata.corr(), annot = True)\n",
    "plt.show()"
   ]
  },
  {
   "cell_type": "markdown",
   "id": "2a38c13b",
   "metadata": {
    "papermill": {
     "duration": 0.014417,
     "end_time": "2023-09-16T09:20:35.451548",
     "exception": false,
     "start_time": "2023-09-16T09:20:35.437131",
     "status": "completed"
    },
    "tags": []
   },
   "source": [
    "There is no correlation between columns."
   ]
  },
  {
   "cell_type": "code",
   "execution_count": 12,
   "id": "0913c9dd",
   "metadata": {
    "execution": {
     "iopub.execute_input": "2023-09-16T09:20:35.482842Z",
     "iopub.status.busy": "2023-09-16T09:20:35.482128Z",
     "iopub.status.idle": "2023-09-16T09:20:36.874772Z",
     "shell.execute_reply": "2023-09-16T09:20:36.873576Z"
    },
    "papermill": {
     "duration": 1.411367,
     "end_time": "2023-09-16T09:20:36.877337",
     "exception": false,
     "start_time": "2023-09-16T09:20:35.465970",
     "status": "completed"
    },
    "tags": []
   },
   "outputs": [
    {
     "data": {
      "text/html": [
       "<div>\n",
       "<style scoped>\n",
       "    .dataframe tbody tr th:only-of-type {\n",
       "        vertical-align: middle;\n",
       "    }\n",
       "\n",
       "    .dataframe tbody tr th {\n",
       "        vertical-align: top;\n",
       "    }\n",
       "\n",
       "    .dataframe thead th {\n",
       "        text-align: right;\n",
       "    }\n",
       "</style>\n",
       "<table border=\"1\" class=\"dataframe\">\n",
       "  <thead>\n",
       "    <tr style=\"text-align: right;\">\n",
       "      <th></th>\n",
       "      <th>step</th>\n",
       "      <th>amount</th>\n",
       "      <th>oldbalanceOrg</th>\n",
       "      <th>newbalanceOrig</th>\n",
       "      <th>oldbalanceDest</th>\n",
       "      <th>newbalanceDest</th>\n",
       "      <th>isFraud</th>\n",
       "      <th>type_CASH_OUT</th>\n",
       "      <th>type_DEBIT</th>\n",
       "      <th>type_PAYMENT</th>\n",
       "      <th>type_TRANSFER</th>\n",
       "    </tr>\n",
       "  </thead>\n",
       "  <tbody>\n",
       "    <tr>\n",
       "      <th>0</th>\n",
       "      <td>1</td>\n",
       "      <td>9839.64</td>\n",
       "      <td>170136.0</td>\n",
       "      <td>160296.36</td>\n",
       "      <td>0.0</td>\n",
       "      <td>0.0</td>\n",
       "      <td>0</td>\n",
       "      <td>False</td>\n",
       "      <td>False</td>\n",
       "      <td>True</td>\n",
       "      <td>False</td>\n",
       "    </tr>\n",
       "    <tr>\n",
       "      <th>1</th>\n",
       "      <td>1</td>\n",
       "      <td>1864.28</td>\n",
       "      <td>21249.0</td>\n",
       "      <td>19384.72</td>\n",
       "      <td>0.0</td>\n",
       "      <td>0.0</td>\n",
       "      <td>0</td>\n",
       "      <td>False</td>\n",
       "      <td>False</td>\n",
       "      <td>True</td>\n",
       "      <td>False</td>\n",
       "    </tr>\n",
       "    <tr>\n",
       "      <th>2</th>\n",
       "      <td>1</td>\n",
       "      <td>181.00</td>\n",
       "      <td>181.0</td>\n",
       "      <td>0.00</td>\n",
       "      <td>0.0</td>\n",
       "      <td>0.0</td>\n",
       "      <td>1</td>\n",
       "      <td>False</td>\n",
       "      <td>False</td>\n",
       "      <td>False</td>\n",
       "      <td>True</td>\n",
       "    </tr>\n",
       "    <tr>\n",
       "      <th>3</th>\n",
       "      <td>1</td>\n",
       "      <td>181.00</td>\n",
       "      <td>181.0</td>\n",
       "      <td>0.00</td>\n",
       "      <td>21182.0</td>\n",
       "      <td>0.0</td>\n",
       "      <td>1</td>\n",
       "      <td>True</td>\n",
       "      <td>False</td>\n",
       "      <td>False</td>\n",
       "      <td>False</td>\n",
       "    </tr>\n",
       "    <tr>\n",
       "      <th>4</th>\n",
       "      <td>1</td>\n",
       "      <td>11668.14</td>\n",
       "      <td>41554.0</td>\n",
       "      <td>29885.86</td>\n",
       "      <td>0.0</td>\n",
       "      <td>0.0</td>\n",
       "      <td>0</td>\n",
       "      <td>False</td>\n",
       "      <td>False</td>\n",
       "      <td>True</td>\n",
       "      <td>False</td>\n",
       "    </tr>\n",
       "  </tbody>\n",
       "</table>\n",
       "</div>"
      ],
      "text/plain": [
       "   step    amount  oldbalanceOrg  newbalanceOrig  oldbalanceDest  \\\n",
       "0     1   9839.64       170136.0       160296.36             0.0   \n",
       "1     1   1864.28        21249.0        19384.72             0.0   \n",
       "2     1    181.00          181.0            0.00             0.0   \n",
       "3     1    181.00          181.0            0.00         21182.0   \n",
       "4     1  11668.14        41554.0        29885.86             0.0   \n",
       "\n",
       "   newbalanceDest  isFraud  type_CASH_OUT  type_DEBIT  type_PAYMENT  \\\n",
       "0             0.0        0          False       False          True   \n",
       "1             0.0        0          False       False          True   \n",
       "2             0.0        1          False       False         False   \n",
       "3             0.0        1           True       False         False   \n",
       "4             0.0        0          False       False          True   \n",
       "\n",
       "   type_TRANSFER  \n",
       "0          False  \n",
       "1          False  \n",
       "2           True  \n",
       "3          False  \n",
       "4          False  "
      ]
     },
     "execution_count": 12,
     "metadata": {},
     "output_type": "execute_result"
    }
   ],
   "source": [
    "dataf = pd.get_dummies(data = data,columns = ['type'], drop_first = True)\n",
    "dataf.head()"
   ]
  },
  {
   "cell_type": "code",
   "execution_count": 13,
   "id": "85effc3d",
   "metadata": {
    "execution": {
     "iopub.execute_input": "2023-09-16T09:20:36.908387Z",
     "iopub.status.busy": "2023-09-16T09:20:36.907957Z",
     "iopub.status.idle": "2023-09-16T09:20:45.201888Z",
     "shell.execute_reply": "2023-09-16T09:20:45.200677Z"
    },
    "papermill": {
     "duration": 8.31277,
     "end_time": "2023-09-16T09:20:45.204551",
     "exception": false,
     "start_time": "2023-09-16T09:20:36.891781",
     "status": "completed"
    },
    "tags": []
   },
   "outputs": [
    {
     "data": {
      "text/html": [
       "<div>\n",
       "<style scoped>\n",
       "    .dataframe tbody tr th:only-of-type {\n",
       "        vertical-align: middle;\n",
       "    }\n",
       "\n",
       "    .dataframe tbody tr th {\n",
       "        vertical-align: top;\n",
       "    }\n",
       "\n",
       "    .dataframe thead th {\n",
       "        text-align: right;\n",
       "    }\n",
       "</style>\n",
       "<table border=\"1\" class=\"dataframe\">\n",
       "  <thead>\n",
       "    <tr style=\"text-align: right;\">\n",
       "      <th></th>\n",
       "      <th>step</th>\n",
       "      <th>amount</th>\n",
       "      <th>oldbalanceOrg</th>\n",
       "      <th>newbalanceOrig</th>\n",
       "      <th>oldbalanceDest</th>\n",
       "      <th>newbalanceDest</th>\n",
       "      <th>isFraud</th>\n",
       "      <th>type_CASH_OUT</th>\n",
       "      <th>type_DEBIT</th>\n",
       "      <th>type_PAYMENT</th>\n",
       "      <th>type_TRANSFER</th>\n",
       "    </tr>\n",
       "  </thead>\n",
       "  <tbody>\n",
       "    <tr>\n",
       "      <th>0</th>\n",
       "      <td>-1.329609</td>\n",
       "      <td>-0.332932</td>\n",
       "      <td>1.452991</td>\n",
       "      <td>1.111175</td>\n",
       "      <td>-0.140722</td>\n",
       "      <td>-0.193057</td>\n",
       "      <td>0.0</td>\n",
       "      <td>0.0</td>\n",
       "      <td>0.0</td>\n",
       "      <td>1.0</td>\n",
       "      <td>0.0</td>\n",
       "    </tr>\n",
       "    <tr>\n",
       "      <th>1</th>\n",
       "      <td>-1.329609</td>\n",
       "      <td>-0.373762</td>\n",
       "      <td>0.065610</td>\n",
       "      <td>0.134375</td>\n",
       "      <td>-0.140722</td>\n",
       "      <td>-0.193057</td>\n",
       "      <td>0.0</td>\n",
       "      <td>0.0</td>\n",
       "      <td>0.0</td>\n",
       "      <td>1.0</td>\n",
       "      <td>0.0</td>\n",
       "    </tr>\n",
       "    <tr>\n",
       "      <th>2</th>\n",
       "      <td>-1.329609</td>\n",
       "      <td>-0.382380</td>\n",
       "      <td>-0.130708</td>\n",
       "      <td>0.000000</td>\n",
       "      <td>-0.140722</td>\n",
       "      <td>-0.193057</td>\n",
       "      <td>1.0</td>\n",
       "      <td>0.0</td>\n",
       "      <td>0.0</td>\n",
       "      <td>0.0</td>\n",
       "      <td>1.0</td>\n",
       "    </tr>\n",
       "    <tr>\n",
       "      <th>3</th>\n",
       "      <td>-1.329609</td>\n",
       "      <td>-0.382380</td>\n",
       "      <td>-0.130708</td>\n",
       "      <td>0.000000</td>\n",
       "      <td>-0.118260</td>\n",
       "      <td>-0.193057</td>\n",
       "      <td>1.0</td>\n",
       "      <td>1.0</td>\n",
       "      <td>0.0</td>\n",
       "      <td>0.0</td>\n",
       "      <td>0.0</td>\n",
       "    </tr>\n",
       "    <tr>\n",
       "      <th>4</th>\n",
       "      <td>-1.329609</td>\n",
       "      <td>-0.323571</td>\n",
       "      <td>0.254820</td>\n",
       "      <td>0.207169</td>\n",
       "      <td>-0.140722</td>\n",
       "      <td>-0.193057</td>\n",
       "      <td>0.0</td>\n",
       "      <td>0.0</td>\n",
       "      <td>0.0</td>\n",
       "      <td>1.0</td>\n",
       "      <td>0.0</td>\n",
       "    </tr>\n",
       "  </tbody>\n",
       "</table>\n",
       "</div>"
      ],
      "text/plain": [
       "       step    amount  oldbalanceOrg  newbalanceOrig  oldbalanceDest  \\\n",
       "0 -1.329609 -0.332932       1.452991        1.111175       -0.140722   \n",
       "1 -1.329609 -0.373762       0.065610        0.134375       -0.140722   \n",
       "2 -1.329609 -0.382380      -0.130708        0.000000       -0.140722   \n",
       "3 -1.329609 -0.382380      -0.130708        0.000000       -0.118260   \n",
       "4 -1.329609 -0.323571       0.254820        0.207169       -0.140722   \n",
       "\n",
       "   newbalanceDest  isFraud  type_CASH_OUT  type_DEBIT  type_PAYMENT  \\\n",
       "0       -0.193057      0.0            0.0         0.0           1.0   \n",
       "1       -0.193057      0.0            0.0         0.0           1.0   \n",
       "2       -0.193057      1.0            0.0         0.0           0.0   \n",
       "3       -0.193057      1.0            1.0         0.0           0.0   \n",
       "4       -0.193057      0.0            0.0         0.0           1.0   \n",
       "\n",
       "   type_TRANSFER  \n",
       "0            0.0  \n",
       "1            0.0  \n",
       "2            1.0  \n",
       "3            0.0  \n",
       "4            0.0  "
      ]
     },
     "execution_count": 13,
     "metadata": {},
     "output_type": "execute_result"
    }
   ],
   "source": [
    "from sklearn.preprocessing import RobustScaler\n",
    "rscaler = RobustScaler()\n",
    "scaled_data = rscaler.fit_transform(dataf)\n",
    "data_sc = pd.DataFrame(scaled_data, columns = dataf.columns)\n",
    "\n",
    "data_sc.head()"
   ]
  },
  {
   "cell_type": "markdown",
   "id": "05330962",
   "metadata": {
    "papermill": {
     "duration": 0.014714,
     "end_time": "2023-09-16T09:20:45.234720",
     "exception": false,
     "start_time": "2023-09-16T09:20:45.220006",
     "status": "completed"
    },
    "tags": []
   },
   "source": [
    "# Model Training"
   ]
  },
  {
   "cell_type": "code",
   "execution_count": 14,
   "id": "ab04ab45",
   "metadata": {
    "execution": {
     "iopub.execute_input": "2023-09-16T09:20:45.266465Z",
     "iopub.status.busy": "2023-09-16T09:20:45.266049Z",
     "iopub.status.idle": "2023-09-16T09:20:45.924042Z",
     "shell.execute_reply": "2023-09-16T09:20:45.922676Z"
    },
    "papermill": {
     "duration": 0.677103,
     "end_time": "2023-09-16T09:20:45.926919",
     "exception": false,
     "start_time": "2023-09-16T09:20:45.249816",
     "status": "completed"
    },
    "tags": []
   },
   "outputs": [],
   "source": [
    "nonfraud = dataf[dataf['isFraud']==0]\n",
    "fraud = dataf[dataf['isFraud']==1]\n",
    "nonfraud = nonfraud.sample(n=8300, random_state = 1)\n",
    "\n",
    "frauddata = pd.merge(fraud,nonfraud, how = \"outer\")"
   ]
  },
  {
   "cell_type": "code",
   "execution_count": 15,
   "id": "81a72769",
   "metadata": {
    "execution": {
     "iopub.execute_input": "2023-09-16T09:20:45.959039Z",
     "iopub.status.busy": "2023-09-16T09:20:45.958328Z",
     "iopub.status.idle": "2023-09-16T09:20:45.965631Z",
     "shell.execute_reply": "2023-09-16T09:20:45.964029Z"
    },
    "papermill": {
     "duration": 0.026357,
     "end_time": "2023-09-16T09:20:45.968282",
     "exception": false,
     "start_time": "2023-09-16T09:20:45.941925",
     "status": "completed"
    },
    "tags": []
   },
   "outputs": [],
   "source": [
    "x = frauddata.drop('isFraud', axis = 1)\n",
    "y = frauddata['isFraud']"
   ]
  },
  {
   "cell_type": "code",
   "execution_count": 16,
   "id": "ceda19f4",
   "metadata": {},
   "outputs": [
    {
     "name": "stdout",
     "output_type": "stream",
     "text": [
      "       step      amount  oldbalanceOrg  newbalanceOrig  oldbalanceDest  \\\n",
      "0         1      181.00          181.0            0.00            0.00   \n",
      "1         1      181.00          181.0            0.00        21182.00   \n",
      "2         1     2806.00         2806.0            0.00            0.00   \n",
      "3         1     2806.00         2806.0            0.00        26202.00   \n",
      "4         1    20128.00        20128.0            0.00            0.00   \n",
      "...     ...         ...            ...             ...             ...   \n",
      "16508   379   153038.88        27133.0       180171.88      1236380.74   \n",
      "16509    23   467640.16        19941.0       487581.16       292841.78   \n",
      "16510   619     1032.42            0.0            0.00            0.00   \n",
      "16511   255  1219321.28            0.0            0.00      5521898.00   \n",
      "16512   345   927540.58            0.0            0.00      1041286.50   \n",
      "\n",
      "       newbalanceDest  type_CASH_OUT  type_DEBIT  type_PAYMENT  type_TRANSFER  \n",
      "0                0.00          False       False         False           True  \n",
      "1                0.00           True       False         False          False  \n",
      "2                0.00          False       False         False           True  \n",
      "3                0.00           True       False         False          False  \n",
      "4                0.00          False       False         False           True  \n",
      "...               ...            ...         ...           ...            ...  \n",
      "16508      1083341.86          False       False         False          False  \n",
      "16509            0.00          False       False         False          False  \n",
      "16510            0.00          False       False          True          False  \n",
      "16511      6741219.28          False       False         False           True  \n",
      "16512      1968827.07          False       False         False           True  \n",
      "\n",
      "[16513 rows x 10 columns]\n"
     ]
    }
   ],
   "source": [
    "print(x)"
   ]
  },
  {
   "cell_type": "code",
   "execution_count": 17,
   "id": "acdf8d70",
   "metadata": {
    "execution": {
     "iopub.execute_input": "2023-09-16T09:20:46.001373Z",
     "iopub.status.busy": "2023-09-16T09:20:46.000917Z",
     "iopub.status.idle": "2023-09-16T09:20:46.144608Z",
     "shell.execute_reply": "2023-09-16T09:20:46.143315Z"
    },
    "papermill": {
     "duration": 0.163432,
     "end_time": "2023-09-16T09:20:46.147573",
     "exception": false,
     "start_time": "2023-09-16T09:20:45.984141",
     "status": "completed"
    },
    "tags": []
   },
   "outputs": [],
   "source": [
    "from sklearn.model_selection import train_test_split\n",
    "from sklearn.metrics import accuracy_score\n",
    "\n",
    "\n",
    "x_train,x_test,y_train,y_test = train_test_split(x,y,train_size = 0.3, random_state = 42)"
   ]
  },
  {
   "cell_type": "markdown",
   "id": "a9233287",
   "metadata": {
    "papermill": {
     "duration": 0.014458,
     "end_time": "2023-09-16T09:20:46.176991",
     "exception": false,
     "start_time": "2023-09-16T09:20:46.162533",
     "status": "completed"
    },
    "tags": []
   },
   "source": [
    "#### Logistic Regression"
   ]
  },
  {
   "cell_type": "code",
   "execution_count": 18,
   "id": "7148d25e",
   "metadata": {
    "execution": {
     "iopub.execute_input": "2023-09-16T09:20:46.275164Z",
     "iopub.status.busy": "2023-09-16T09:20:46.274769Z",
     "iopub.status.idle": "2023-09-16T09:20:46.511254Z",
     "shell.execute_reply": "2023-09-16T09:20:46.509573Z"
    },
    "papermill": {
     "duration": 0.258178,
     "end_time": "2023-09-16T09:20:46.516120",
     "exception": false,
     "start_time": "2023-09-16T09:20:46.257942",
     "status": "completed"
    },
    "tags": []
   },
   "outputs": [],
   "source": [
    "#LogisticRegression\n",
    "from sklearn.linear_model import LogisticRegression\n",
    "logreg = LogisticRegression()\n",
    "logreg.fit(x_train,y_train)\n",
    "\n",
    "y_pred = logreg.predict(x_test)"
   ]
  },
  {
   "cell_type": "markdown",
   "id": "de94f1f2",
   "metadata": {
    "papermill": {
     "duration": 0.031956,
     "end_time": "2023-09-16T09:20:46.581348",
     "exception": false,
     "start_time": "2023-09-16T09:20:46.549392",
     "status": "completed"
    },
    "tags": []
   },
   "source": [
    "#### Decision Tree Classifier"
   ]
  },
  {
   "cell_type": "code",
   "execution_count": 19,
   "id": "5646fe02",
   "metadata": {
    "execution": {
     "iopub.execute_input": "2023-09-16T09:20:46.640248Z",
     "iopub.status.busy": "2023-09-16T09:20:46.639783Z",
     "iopub.status.idle": "2023-09-16T09:20:46.862178Z",
     "shell.execute_reply": "2023-09-16T09:20:46.860908Z"
    },
    "papermill": {
     "duration": 0.250591,
     "end_time": "2023-09-16T09:20:46.865232",
     "exception": false,
     "start_time": "2023-09-16T09:20:46.614641",
     "status": "completed"
    },
    "tags": []
   },
   "outputs": [],
   "source": [
    "#DecisionTreeClassifier\n",
    "from sklearn.tree import DecisionTreeClassifier\n",
    "\n",
    "dt = DecisionTreeClassifier()\n",
    "dt.fit(x_train,y_train)\n",
    "\n",
    "y_pred_dt = dt.predict(x_test)\n"
   ]
  },
  {
   "cell_type": "markdown",
   "id": "5e60d525",
   "metadata": {
    "papermill": {
     "duration": 0.016293,
     "end_time": "2023-09-16T09:20:46.897335",
     "exception": false,
     "start_time": "2023-09-16T09:20:46.881042",
     "status": "completed"
    },
    "tags": []
   },
   "source": [
    "#### Random Forest Classifier"
   ]
  },
  {
   "cell_type": "code",
   "execution_count": 20,
   "id": "6d5a5257",
   "metadata": {
    "execution": {
     "iopub.execute_input": "2023-09-16T09:20:46.931587Z",
     "iopub.status.busy": "2023-09-16T09:20:46.930326Z",
     "iopub.status.idle": "2023-09-16T09:20:47.853774Z",
     "shell.execute_reply": "2023-09-16T09:20:47.852503Z"
    },
    "papermill": {
     "duration": 0.943653,
     "end_time": "2023-09-16T09:20:47.856577",
     "exception": false,
     "start_time": "2023-09-16T09:20:46.912924",
     "status": "completed"
    },
    "tags": []
   },
   "outputs": [],
   "source": [
    "#RandomForestClassifier\n",
    "from sklearn.ensemble import RandomForestClassifier\n",
    "\n",
    "rf = RandomForestClassifier()\n",
    "rf.fit(x_train,y_train)\n",
    "\n",
    "y_pred_rf = rf.predict(x_test)\n"
   ]
  },
  {
   "cell_type": "markdown",
   "id": "f31ed94b",
   "metadata": {
    "papermill": {
     "duration": 0.015521,
     "end_time": "2023-09-16T09:20:47.887898",
     "exception": false,
     "start_time": "2023-09-16T09:20:47.872377",
     "status": "completed"
    },
    "tags": []
   },
   "source": [
    "#### Gradient Boosting\n"
   ]
  },
  {
   "cell_type": "code",
   "execution_count": 21,
   "id": "13152d08",
   "metadata": {
    "execution": {
     "iopub.execute_input": "2023-09-16T09:20:47.920556Z",
     "iopub.status.busy": "2023-09-16T09:20:47.920092Z",
     "iopub.status.idle": "2023-09-16T09:20:48.925040Z",
     "shell.execute_reply": "2023-09-16T09:20:48.923239Z"
    },
    "papermill": {
     "duration": 1.024676,
     "end_time": "2023-09-16T09:20:48.927788",
     "exception": false,
     "start_time": "2023-09-16T09:20:47.903112",
     "status": "completed"
    },
    "tags": []
   },
   "outputs": [],
   "source": [
    "#GradientBoosting\n",
    "from sklearn.ensemble import GradientBoostingClassifier\n",
    "\n",
    "gb = GradientBoostingClassifier()\n",
    "gb.fit(x_train,y_train)\n",
    "\n",
    "y_pred_gb = gb.predict(x_test)\n"
   ]
  },
  {
   "cell_type": "markdown",
   "id": "5d3e9db3",
   "metadata": {
    "papermill": {
     "duration": 0.015052,
     "end_time": "2023-09-16T09:20:48.958457",
     "exception": false,
     "start_time": "2023-09-16T09:20:48.943405",
     "status": "completed"
    },
    "tags": []
   },
   "source": [
    "#### Classification Reports and Evaluations"
   ]
  },
  {
   "cell_type": "code",
   "execution_count": 22,
   "id": "687aca80",
   "metadata": {
    "execution": {
     "iopub.execute_input": "2023-09-16T09:20:48.990938Z",
     "iopub.status.busy": "2023-09-16T09:20:48.990530Z",
     "iopub.status.idle": "2023-09-16T09:20:49.023932Z",
     "shell.execute_reply": "2023-09-16T09:20:49.022408Z"
    },
    "papermill": {
     "duration": 0.052797,
     "end_time": "2023-09-16T09:20:49.026751",
     "exception": false,
     "start_time": "2023-09-16T09:20:48.973954",
     "status": "completed"
    },
    "tags": []
   },
   "outputs": [
    {
     "name": "stdout",
     "output_type": "stream",
     "text": [
      "Logistic Regression classification report: \n",
      "\n",
      "               precision    recall  f1-score   support\n",
      "\n",
      "           0       0.90      0.90      0.90      5779\n",
      "           1       0.90      0.90      0.90      5781\n",
      "\n",
      "    accuracy                           0.90     11560\n",
      "   macro avg       0.90      0.90      0.90     11560\n",
      "weighted avg       0.90      0.90      0.90     11560\n",
      "\n"
     ]
    }
   ],
   "source": [
    "from sklearn.metrics import accuracy_score, classification_report\n",
    "print(\"Logistic Regression classification report: \\n\\n\"  ,classification_report(y_test,y_pred))"
   ]
  },
  {
   "cell_type": "code",
   "execution_count": 23,
   "id": "fe6748ce",
   "metadata": {
    "execution": {
     "iopub.execute_input": "2023-09-16T09:20:49.059903Z",
     "iopub.status.busy": "2023-09-16T09:20:49.058840Z",
     "iopub.status.idle": "2023-09-16T09:20:49.092877Z",
     "shell.execute_reply": "2023-09-16T09:20:49.091304Z"
    },
    "papermill": {
     "duration": 0.054334,
     "end_time": "2023-09-16T09:20:49.096369",
     "exception": false,
     "start_time": "2023-09-16T09:20:49.042035",
     "status": "completed"
    },
    "tags": []
   },
   "outputs": [
    {
     "name": "stdout",
     "output_type": "stream",
     "text": [
      "Decision Tree classification report: \n",
      "\n",
      "               precision    recall  f1-score   support\n",
      "\n",
      "           0       0.98      0.98      0.98      5779\n",
      "           1       0.98      0.98      0.98      5781\n",
      "\n",
      "    accuracy                           0.98     11560\n",
      "   macro avg       0.98      0.98      0.98     11560\n",
      "weighted avg       0.98      0.98      0.98     11560\n",
      "\n"
     ]
    }
   ],
   "source": [
    "print(\"Decision Tree classification report: \\n\\n\"  ,classification_report(y_test,y_pred_dt))"
   ]
  },
  {
   "cell_type": "code",
   "execution_count": 24,
   "id": "f90676c3",
   "metadata": {
    "execution": {
     "iopub.execute_input": "2023-09-16T09:20:49.129707Z",
     "iopub.status.busy": "2023-09-16T09:20:49.129308Z",
     "iopub.status.idle": "2023-09-16T09:20:49.163886Z",
     "shell.execute_reply": "2023-09-16T09:20:49.162204Z"
    },
    "papermill": {
     "duration": 0.054906,
     "end_time": "2023-09-16T09:20:49.166710",
     "exception": false,
     "start_time": "2023-09-16T09:20:49.111804",
     "status": "completed"
    },
    "tags": []
   },
   "outputs": [
    {
     "name": "stdout",
     "output_type": "stream",
     "text": [
      "Random Forest classification report: \n",
      "\n",
      "               precision    recall  f1-score   support\n",
      "\n",
      "           0       0.99      0.99      0.99      5779\n",
      "           1       0.99      0.99      0.99      5781\n",
      "\n",
      "    accuracy                           0.99     11560\n",
      "   macro avg       0.99      0.99      0.99     11560\n",
      "weighted avg       0.99      0.99      0.99     11560\n",
      "\n"
     ]
    }
   ],
   "source": [
    "print(\"Random Forest classification report: \\n\\n\"  ,classification_report(y_test,y_pred_rf))"
   ]
  },
  {
   "cell_type": "code",
   "execution_count": 25,
   "id": "5b5db7a4",
   "metadata": {
    "execution": {
     "iopub.execute_input": "2023-09-16T09:20:49.199631Z",
     "iopub.status.busy": "2023-09-16T09:20:49.198855Z",
     "iopub.status.idle": "2023-09-16T09:20:49.232726Z",
     "shell.execute_reply": "2023-09-16T09:20:49.231128Z"
    },
    "papermill": {
     "duration": 0.053205,
     "end_time": "2023-09-16T09:20:49.235316",
     "exception": false,
     "start_time": "2023-09-16T09:20:49.182111",
     "status": "completed"
    },
    "tags": []
   },
   "outputs": [
    {
     "name": "stdout",
     "output_type": "stream",
     "text": [
      "Gradient Boosting classification report: \n",
      "\n",
      "               precision    recall  f1-score   support\n",
      "\n",
      "           0       0.99      0.98      0.99      5779\n",
      "           1       0.98      0.99      0.99      5781\n",
      "\n",
      "    accuracy                           0.99     11560\n",
      "   macro avg       0.99      0.99      0.99     11560\n",
      "weighted avg       0.99      0.99      0.99     11560\n",
      "\n"
     ]
    }
   ],
   "source": [
    "print(\"Gradient Boosting classification report: \\n\\n\"  ,classification_report(y_test,y_pred_gb))"
   ]
  },
  {
   "cell_type": "code",
   "execution_count": 26,
   "id": "7fc073c4",
   "metadata": {
    "execution": {
     "iopub.execute_input": "2023-09-16T09:20:49.270413Z",
     "iopub.status.busy": "2023-09-16T09:20:49.269256Z",
     "iopub.status.idle": "2023-09-16T09:20:49.284957Z",
     "shell.execute_reply": "2023-09-16T09:20:49.283503Z"
    },
    "papermill": {
     "duration": 0.036387,
     "end_time": "2023-09-16T09:20:49.287713",
     "exception": false,
     "start_time": "2023-09-16T09:20:49.251326",
     "status": "completed"
    },
    "tags": []
   },
   "outputs": [
    {
     "name": "stdout",
     "output_type": "stream",
     "text": [
      "Logistic Regression Accuracy Score: 0.8992214532871973\n",
      "Decision Tree Accuracy Score:  0.9834775086505191\n",
      "Random Forest accuracy score:  0.9901384083044983\n",
      "Gradient Boosting accuracy score:  0.9873702422145328\n"
     ]
    }
   ],
   "source": [
    "print(\"Logistic Regression Accuracy Score:\", accuracy_score(y_test,y_pred))\n",
    "print(\"Decision Tree Accuracy Score: \", accuracy_score(y_test,y_pred_dt))\n",
    "print(\"Random Forest accuracy score: \", accuracy_score(y_test,y_pred_rf))\n",
    "print(\"Gradient Boosting accuracy score: \", accuracy_score(y_test, y_pred_gb))"
   ]
  },
  {
   "cell_type": "markdown",
   "id": "b9c72270",
   "metadata": {
    "papermill": {
     "duration": 0.015794,
     "end_time": "2023-09-16T09:20:49.320155",
     "exception": false,
     "start_time": "2023-09-16T09:20:49.304361",
     "status": "completed"
    },
    "tags": []
   },
   "source": [
    "# Conclusion\n",
    "\n",
    "For the fraud prediction, Random Forest Classification model has the highest accuracy score."
   ]
  }
 ],
 "metadata": {
  "kernelspec": {
   "display_name": "Python 3 (ipykernel)",
   "language": "python",
   "name": "python3"
  },
  "language_info": {
   "codemirror_mode": {
    "name": "ipython",
    "version": 3
   },
   "file_extension": ".py",
   "mimetype": "text/x-python",
   "name": "python",
   "nbconvert_exporter": "python",
   "pygments_lexer": "ipython3",
   "version": "3.10.13"
  },
  "papermill": {
   "default_parameters": {},
   "duration": 71.726477,
   "end_time": "2023-09-16T09:20:50.562912",
   "environment_variables": {},
   "exception": null,
   "input_path": "__notebook__.ipynb",
   "output_path": "__notebook__.ipynb",
   "parameters": {},
   "start_time": "2023-09-16T09:19:38.836435",
   "version": "2.4.0"
  }
 },
 "nbformat": 4,
 "nbformat_minor": 5
}
